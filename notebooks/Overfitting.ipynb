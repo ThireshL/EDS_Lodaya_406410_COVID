{
 "cells": [
  {
   "cell_type": "code",
   "execution_count": null,
   "metadata": {},
   "outputs": [],
   "source": [
    "import matplotlib as mpl\n",
    "import matplotlib.pyplot as plt\n",
    "import os\n",
    "import pandas as pd\n",
    "import numpy as np\n",
    "\n",
    "\n",
    "\n",
    "%matplotlib inline\n",
    "mpl.rcParams['figure.figsize'] = (16, 10)\n",
    "pd.set_option('display.max_rows', 500)\n",
    "\n",
    "import plotly.graph_objects as go"
   ]
  },
  {
   "cell_type": "markdown",
   "metadata": {},
   "source": [
    "## Data Load"
   ]
  },
  {
   "cell_type": "code",
   "execution_count": null,
   "metadata": {},
   "outputs": [],
   "source": [
    "df_analyse=pd.read_csv('C:/Users/thire/Desktop/eds_lodaya_406410_covid_19/data/processed/COVID_small_sync_timeline_table.csv',sep=';')  \n",
    "\n",
    "df_analyse.sort_values('date',ascending=True).head()"
   ]
  },
  {
   "cell_type": "code",
   "execution_count": null,
   "metadata": {},
   "outputs": [],
   "source": [
    "country_list=df_analyse.columns[1:]"
   ]
  },
  {
   "cell_type": "markdown",
   "metadata": {},
   "source": [
    "## Helper function"
   ]
  },
  {
   "cell_type": "code",
   "execution_count": null,
   "metadata": {},
   "outputs": [],
   "source": [
    "def quick_plot(x_in, df_input,y_scale='log',slider=False):\n",
    "    \"\"\" Quick basic plot for quick static evaluation of a time series\n",
    "    \n",
    "        you can push selective columns of your data frame by .iloc[:,[0,6,7,8]]\n",
    "        \n",
    "        Parameters:\n",
    "        ----------\n",
    "        x_in : array \n",
    "            array of date time object, or array of numbers\n",
    "        df_input : pandas dataframe \n",
    "            the plotting matrix where each column is plotted\n",
    "            the name of the column will be used for the legend\n",
    "        scale: str\n",
    "            y-axis scale as 'log' or 'linear'\n",
    "        slider: bool\n",
    "            True or False for x-axis slider\n",
    "    \n",
    "        \n",
    "        Returns:\n",
    "        ----------\n",
    "        \n",
    "    \"\"\"\n",
    "    fig = go.Figure()\n",
    "\n",
    "    for each in df_input.columns:\n",
    "        fig.add_trace(go.Scatter(\n",
    "                        x=x_in,\n",
    "                        y=df_input[each],\n",
    "                        name=each,\n",
    "                        opacity=0.8))\n",
    "    \n",
    "    fig.update_layout(autosize=True,\n",
    "        width=1024,\n",
    "        height=768,\n",
    "        font=dict(\n",
    "            family=\"PT Sans, monospace\",\n",
    "            size=18,\n",
    "            color=\"#7f7f7f\"\n",
    "            )\n",
    "        )\n",
    "    fig.update_yaxes(type=y_scale),\n",
    "    fig.update_xaxes(tickangle=-45,\n",
    "                 nticks=20,\n",
    "                 tickfont=dict(size=14,color=\"#7f7f7f\")\n",
    "                )\n",
    "    if slider==True:\n",
    "        fig.update_layout(xaxis_rangeslider_visible=True)\n",
    "    fig.show()\n",
    "      \n",
    "    "
   ]
  },
  {
   "cell_type": "code",
   "execution_count": null,
   "metadata": {},
   "outputs": [],
   "source": [
    "def mean_absolute_percentage_error(y_true, y_pred): \n",
    "    y_true, y_pred = np.array(y_true), np.array(y_pred)\n",
    "    return np.mean(np.abs((y_true - y_pred) / y_true)) * 100"
   ]
  },
  {
   "cell_type": "code",
   "execution_count": null,
   "metadata": {},
   "outputs": [],
   "source": [
    "quick_plot(df_analyse.date,\n",
    "           df_analyse.iloc[:,3:-1],\n",
    "           y_scale='log',\n",
    "           slider=True)"
   ]
  },
  {
   "cell_type": "markdown",
   "metadata": {},
   "source": [
    "## Fitting polynomial curve"
   ]
  },
  {
   "cell_type": "code",
   "execution_count": null,
   "metadata": {},
   "outputs": [],
   "source": [
    "# check that all data are there\n",
    "df_poly_check=df_analyse.iloc[0:27,3:-1].reset_index()\n",
    "df_poly_check.head()"
   ]
  },
  {
   "cell_type": "code",
   "execution_count": null,
   "metadata": {},
   "outputs": [],
   "source": [
    "from sklearn.preprocessing import PolynomialFeatures\n",
    "from sklearn.linear_model import LinearRegression\n",
    "from sklearn.pipeline import make_pipeline\n",
    "\n",
    "\n",
    "def PolynomialRegression(degree=2, **kwargs):\n",
    "    return make_pipeline(PolynomialFeatures(degree),\n",
    "                         LinearRegression(**kwargs))"
   ]
  },
  {
   "cell_type": "code",
   "execution_count": null,
   "metadata": {},
   "outputs": [],
   "source": [
    "y=df_poly_check[['Italy','US','Brazil','Germany','India']].unstack().sort_index(axis=0,level=1)"
   ]
  },
  {
   "cell_type": "code",
   "execution_count": null,
   "metadata": {},
   "outputs": [],
   "source": [
    "y.head()"
   ]
  },
  {
   "cell_type": "code",
   "execution_count": null,
   "metadata": {},
   "outputs": [],
   "source": [
    "test_points=28\n",
    "y_train=y[0:-test_points-1]\n",
    "y_test=y[-test_points:]"
   ]
  },
  {
   "cell_type": "code",
   "execution_count": null,
   "metadata": {},
   "outputs": [],
   "source": [
    "X_train=np.arange(len(y_train)).reshape(-1, 1)/4.0 \n",
    "X_test=np.arange(len(y_train),len(y_train)+test_points).reshape(-1, 1)/4.0"
   ]
  },
  {
   "cell_type": "code",
   "execution_count": null,
   "metadata": {},
   "outputs": [],
   "source": [
    "%matplotlib inline\n",
    "import matplotlib as mlp\n",
    "import matplotlib.pyplot as plt\n",
    "import seaborn;\n",
    "seaborn.set(rc={'figure.figsize':(16,8)})  # plot formatting, prepare for subplot"
   ]
  },
  {
   "cell_type": "markdown",
   "metadata": {},
   "source": [
    " MAPE and SMAPE"
   ]
  },
  {
   "cell_type": "code",
   "execution_count": null,
   "metadata": {},
   "outputs": [],
   "source": [
    "fig, ax1 = plt.subplots(1, 1)\n",
    "\n",
    "ax1.scatter(np.arange(len(y))/4,y, color='blue')\n",
    "ax1.axvspan((len(y)-test_points-1)/4, len(y)/4, facecolor='b', alpha=0.5)\n",
    "\n",
    "for degree in [1,3,7,15]:\n",
    "    y_hat_insaple=PolynomialRegression(degree).fit(X_train, y_train).predict(X_train)\n",
    "    y_hat_test = PolynomialRegression(degree).fit(X_train, y_train).predict(X_test)\n",
    "\n",
    "\n",
    "\n",
    "    X_plot=np.concatenate((X_train, X_test), axis=None)\n",
    "    y_plot=np.concatenate((y_hat_insaple, y_hat_test), axis=None)\n",
    "\n",
    "    ax1.plot(X_plot, y_plot, label='degree={0}'.format(degree)+ \n",
    "                 '     MAPE train:  ' + str(mean_absolute_percentage_error(y_hat_insaple, y_train))[0:3]\n",
    "                 +'    MAPE test    ' +str(mean_absolute_percentage_error(y_hat_test, y_test))[0:3]) \n",
    "\n",
    "ax1.set_ylim(100, 15000000)\n",
    "ax1.set_yscale('log')\n",
    "ax1.legend(loc='best',\n",
    "           prop={'size': 16});"
   ]
  }
 ],
 "metadata": {
  "kernelspec": {
   "display_name": "Python 3",
   "language": "python",
   "name": "python3"
  },
  "language_info": {
   "codemirror_mode": {
    "name": "ipython",
    "version": 3
   },
   "file_extension": ".py",
   "mimetype": "text/x-python",
   "name": "python",
   "nbconvert_exporter": "python",
   "pygments_lexer": "ipython3",
   "version": "3.7.3"
  }
 },
 "nbformat": 4,
 "nbformat_minor": 2
}
